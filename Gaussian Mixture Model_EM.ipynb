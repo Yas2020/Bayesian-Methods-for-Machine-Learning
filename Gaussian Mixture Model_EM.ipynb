{
 "cells": [
  {
   "cell_type": "markdown",
   "metadata": {},
   "source": [
    "In this assignment, we will derive and implement formulas for Gaussian Mixture Model — one of the most commonly used methods for performing soft clustering of the data. We use Expectation Maximization (EM) algorithm to maximize the likelihood of data points given GMM parameters.  "
   ]
  },
  {
   "cell_type": "markdown",
   "metadata": {},
   "source": [
    "EM algorithm is a coordinate descent optimization of the variational lower bound\n",
    "\n",
    "$\\mathcal{L}(\\theta, q) = \\int q(T) \\log\\frac{p(X, T|\\theta)}{q(T)}dT\\to \\max_{q\\in Q, \\theta\\in \\Theta}$."
   ]
  },
  {
   "cell_type": "markdown",
   "metadata": {},
   "source": [
    "This expectation is maximized in two steps:\n",
    "\n",
    "> **E_step** : In this step, $\\mathcal{L}(\\theta, q)$ is maximized over $q$. It is not difficult to see that this is equivalent to minimizing the KullBack_Liebler function:\n",
    "$$\\mathcal{KL} [q(T) \\,\\|\\, p(T|X, \\theta)] $$\n",
    "But the absolute minimum of this function is zero, which is obtained when $q(T) = p(T|X, \\theta)$ and **E_step** is solved.\n",
    "\n",
    "> **M_step** : Having found the optimal value for $q$, we now maximize $\\mathcal{L}(\\theta, q)$ over $\\theta$. This is equivalent to maximixing \n",
    "$$\\mathbb{E}_{q(T)}\\log p(X,T | \\theta)$$\n",
    "over $\\theta$, which can be done analytically for GMM. \n",
    "\n",
    "\n"
   ]
  },
  {
   "cell_type": "markdown",
   "metadata": {},
   "source": [
    "For GMM, $\\theta$ is a set of parameters that consists of mean vectors $\\mu_c$, covariance matrices $\\Sigma_c$ and priors $\\pi_c$ for each component.\n",
    "\n",
    "Latent variables $T$ are indices of components to which each data point is assigned, i.e. $t_i$  is the cluster index for object $x_i$."
   ]
  },
  {
   "cell_type": "code",
   "execution_count": 1,
   "metadata": {},
   "outputs": [],
   "source": [
    "import numpy as np\n",
    "from numpy.linalg import det, solve\n",
    "import matplotlib.pyplot as plt"
   ]
  },
  {
   "cell_type": "markdown",
   "metadata": {},
   "source": [
    "Out data set is shown below."
   ]
  },
  {
   "cell_type": "code",
   "execution_count": 2,
   "metadata": {},
   "outputs": [
    {
     "data": {
      "image/png": "[encoded data removed]",
      "text/plain": [
       "<Figure size 432x288 with 1 Axes>"
      ]
     },
     "metadata": {
      "needs_background": "light"
     },
     "output_type": "display_data"
    }
   ],
   "source": [
    "samples = np.load('samples.npz')\n",
    "X = samples['data']\n",
    "pi0 = samples['pi0']\n",
    "mu0 = samples['mu0']\n",
    "sigma0 = samples['sigma0']\n",
    "plt.scatter(X[:, 0], X[:, 1], c='grey', s=30)\n",
    "plt.axis('equal')\n",
    "plt.show()"
   ]
  },
  {
   "cell_type": "code",
   "execution_count": 3,
   "metadata": {},
   "outputs": [
    {
     "data": {
      "text/plain": [
       "((280, 2), (3,), (3, 2), (3, 2, 2))"
      ]
     },
     "execution_count": 3,
     "metadata": {},
     "output_type": "execute_result"
    }
   ],
   "source": [
    "X.shape, pi0.shape, mu0.shape, sigma0.shape"
   ]
  },
  {
   "cell_type": "markdown",
   "metadata": {},
   "source": [
    "Let's implement *E_step* using the function below that calculates the posterior distribution $p(t_i = c| x_i, \\theta)$ of the latent variables:\n",
    "\n",
    "\\begin{align*}\n",
    "\\gamma_{ic} =& p(t_i = c| x_i, \\theta)\\\\\n",
    "=&\\frac{p(x_i|t_i=c, \\theta)p(t_i=c)}{p(x_i,\\theta)}\\\\\n",
    "=&\\frac{p(x_i|t_i=c, \\theta)p(t_i=c)}{\\sum_cp(x_i|t_i=c, \\theta)p(t_i=c)}\n",
    "\\end{align*}\n",
    "where,\n",
    "$$\n",
    "p(x_i|t_i=c, \\theta) = \\frac{1}{\\sqrt{(2\\pi)^n|\\boldsymbol\\Sigma_c|}}\n",
    "\\exp\\left(-\\frac{1}{2}({x}-{\\mu_c})^T{\\boldsymbol\\Sigma_c}^{-1}({x}-{\\mu_c})\\right)\n",
    "$$\n",
    "is the normal distribution $\\mathcal{N}(x_i \\mid \\mu_c, \\Sigma_c)$. Also $p(t_i=c) = \\pi_c$ is the probability of $x_i$ coming from cluster $c$. "
   ]
  },
  {
   "cell_type": "markdown",
   "metadata": {},
   "source": [
    "As computing exponents of large numbers may result in infinity we try to avoid this by dividing numerator and denominator by $e^{\\max(y)}$ over all terms in the denominator of $\\gamma_{ic}$ above."
   ]
  },
  {
   "cell_type": "code",
   "execution_count": 4,
   "metadata": {},
   "outputs": [],
   "source": [
    "def E_step(X, pi, mu, sigma):\n",
    "    \"\"\"\n",
    "    Performs E-step on GMM model\n",
    "    Each input is numpy array:\n",
    "    X: (N x d), data points\n",
    "    pi: (C), mixture component weights \n",
    "    mu: (C x d), mixture component means\n",
    "    sigma: (C x d x d), mixture component covariance matrices\n",
    "    \n",
    "    Returns:\n",
    "    gamma: (N x C), probabilities of clusters for objects\n",
    "    \"\"\"\n",
    "    N = X.shape[0] # number of objects\n",
    "    C = pi.shape[0] # number of clusters\n",
    "    gamma = np.zeros((N, C)) # distribution q(T)\n",
    "    \n",
    "    # The following loop calculates the argument of \n",
    "    # the exponential function as a N x C matrix indexed by (i, c) . \n",
    "    \n",
    "    for c in range(C):\n",
    "        gamma[:,c] = -0.5*((X-mu[c])@\\\n",
    "            solve(sigma[c], (X-mu[c]).T)).diagonal() \n",
    "    \n",
    "    gamma = np.exp(gamma - gamma.max(axis=1)[:,np.newaxis])\n",
    "    gamma = gamma * pi / np.sqrt(np.abs(det(sigma)))\n",
    "    gamma = gamma / gamma.sum(axis=1)[:,np.newaxis]\n",
    "\n",
    "    return gamma"
   ]
  },
  {
   "cell_type": "markdown",
   "metadata": {},
   "source": [
    "We now move on to the next step to implement **M_step**, which is to maximize $$\\mathbb{E}_{q(T)}\\log p(X,T | \\theta)$$.\n",
    "\n",
    "\\begin{align*}\n",
    "\\mathbb{E}_{q(T)}\\log p(X,T | \\theta)=\\\\\n",
    "=& \\sum_c q(t_i=c)\\sum_i \\log p(x_i, t_i|\\theta)\\\\\n",
    "=& \\sum_c q(t_i=c)\\sum_i (\\log p(x_i|t_i, \\theta) + \\log p(t_i=c))\\\\\n",
    "=&\\sum_i\\sum_c \\gamma_{ic}(\\log p(x_i|t_i, \\theta) + \\log \\pi_c)\n",
    "\\end{align*}"
   ]
  },
  {
   "cell_type": "markdown",
   "metadata": {},
   "source": [
    "Taking the derivative with respect to $\\mu$, $\\sigma$ and $\\pi$, we have:\n",
    "$$\\mu_c = \\frac{\\sum_i\\gamma_{ic}x_i}{\\sum_i\\gamma_{ic}},$$\n",
    "$$\\Sigma_c = \\frac{\\sum_i \\gamma_{ic}(x_i - \\mu_c)(x_i - \\mu_c)^T}{\\sum_i \\gamma_{ic}},$$\n",
    "and\n",
    "$$\\pi_c = \\frac{\\sum_i \\gamma_{ic}}{N}$$\n",
    "where $\\sum_c \\pi_{c}=1.$\n",
    "To find these optimal values we used the following formulas for derivative of matrices:\n",
    "$$\\frac{\\partial}{\\partial \\textbf{s}} (\\textbf{x} - \\textbf{s})^{T}\\textbf{W}(\\textbf{x} - \\textbf{s}) = -2\\textbf{W}(\\textbf{x} - \\textbf{s}),$$\n",
    "where $\\textbf{W}$ is symmetric.\n",
    "$$\\frac{\\partial \\textbf{a}^T\\textbf{X}^{-1}\\textbf{b}}{\\partial \\textbf{X}} = \\textbf{X}^{-T}\\textbf{a}\\textbf{b}^T\\textbf{X}^{-T},$$\n",
    "$$\\frac{\\partial \\text{det}(\\textbf{X})}{\\partial \\textbf{X}} = \\text{det}(\\textbf{X})(\\textbf{X}^{-1})^T.$$\n",
    "These are the optimal values for parameteres given the posterior of the latent variable. The following function implements **M_step** . "
   ]
  },
  {
   "cell_type": "code",
   "execution_count": 5,
   "metadata": {},
   "outputs": [],
   "source": [
    "def M_step(X, gamma):\n",
    "    \"\"\"\n",
    "    Performs M-step on GMM model\n",
    "    Each input is numpy array:\n",
    "    X: (N x d), data points\n",
    "    gamma: (N x C), distribution q(T)  \n",
    "    \n",
    "    Returns:\n",
    "    pi: (C)\n",
    "    mu: (C x d)\n",
    "    sigma: (C x d x d)\n",
    "    \"\"\"\n",
    "    N = X.shape[0] # number of objects\n",
    "    C = gamma.shape[1] # number of clusters\n",
    "    d = X.shape[1] # dimension of each object\n",
    "\n",
    "    ### YOUR CODE HERE\n",
    "    sigma = np.zeros((C,d,d))\n",
    "    pi = gamma.sum(axis=0)/N\n",
    "    mu = (gamma.T @ X) / gamma.sum(axis=0)[:, np.newaxis]\n",
    "    \n",
    "    for c in range(C):\n",
    "        for i in range(N):\n",
    "            sigma[c] += gamma[i,c] * ((X[i]- mu[c]).reshape(-1,1) @ \\\n",
    "                  (X[i]- mu[c]).reshape(1,-1))/gamma.sum(axis=0)[c]\n",
    "\n",
    "    return pi, mu, sigma"
   ]
  },
  {
   "cell_type": "code",
   "execution_count": 6,
   "metadata": {
    "scrolled": true
   },
   "outputs": [],
   "source": [
    "gamma = E_step(X, pi0, mu0, sigma0)\n",
    "pi, mu, sigma = M_step(X, gamma)"
   ]
  },
  {
   "cell_type": "markdown",
   "metadata": {},
   "source": [
    "It is gauranteed that EM algorithm pushes the log likelihood to a local max because:\n",
    "$$\\log p(X|\\theta^{k+1})\\geq \\mathcal{L}(\\theta^{k+1}, q^{k+1})\\geq \\mathcal{L}(\\theta^{k},q^{k+1})=\\log p(X|\\theta^{k})$$\n",
    "\n",
    "Our loss function is the variational lower bound\n",
    "\n",
    "\\begin{align*}\n",
    "\\mathcal{L} =& \\sum_{i=1}^{N} \\sum_{c=1}^{C} q(t_i =c) (\\log \\pi_c + \\log f_{\\!\\mathcal{N}}(x_i \\mid \\mu_c, \\Sigma_c) - \\log q(t_i =c))\\\\\n",
    "=& \\sum_{i=1}^{N} \\sum_{c=1}^{C} \\gamma_{ic} (\\log \\pi_c + \\log f_{\\!\\mathcal{N}}(x_i \\mid \\mu_c, \\Sigma_c) - \\log \\gamma_{ic})\n",
    "\\end{align*}"
   ]
  },
  {
   "cell_type": "code",
   "execution_count": 7,
   "metadata": {},
   "outputs": [],
   "source": [
    "def compute_vlb(X, pi, mu, sigma, gamma):\n",
    "    \"\"\"\n",
    "    Each input is numpy array:\n",
    "    X: (N x d), data points\n",
    "    gamma: (N x C), distribution q(T)  \n",
    "    pi: (C)\n",
    "    mu: (C x d)\n",
    "    sigma: (C x d x d)\n",
    "    \n",
    "    Returns value of variational lower bound\n",
    "    \"\"\"\n",
    "    N = X.shape[0] # number of objects\n",
    "    C = gamma.shape[1] # number of clusters\n",
    "    d = X.shape[1] # dimension of each object\n",
    "\n",
    "    \n",
    "    p = np.zeros((N,C)) # This will contain the log of nomral PDF\n",
    "    # calculated by the following loop. \n",
    "    \n",
    "    for c in range(C):\n",
    "        p[:,c] = -0.5*(np.log((2*np.pi)**d*np.abs(np.linalg.det(sigma[c]))) + \\\n",
    "        ((X-mu[c]) @ np.linalg.solve(sigma[c], (X-mu[c]).T)).diagonal())\n",
    "    \n",
    "    loss = (gamma * (np.log(pi) + p - np.log(gamma))).sum(axis=1).sum()\n",
    "\n",
    "    return loss\n"
   ]
  },
  {
   "cell_type": "markdown",
   "metadata": {},
   "source": [
    "To test our calculations, we run the following cell:"
   ]
  },
  {
   "cell_type": "code",
   "execution_count": 8,
   "metadata": {},
   "outputs": [
    {
     "data": {
      "text/plain": [
       "-1213.9734643060183"
      ]
     },
     "execution_count": 8,
     "metadata": {},
     "output_type": "execute_result"
    }
   ],
   "source": [
    "pi, mu, sigma = pi0, mu0, sigma0\n",
    "gamma = E_step(X, pi, mu, sigma)\n",
    "pi, mu, sigma = M_step(X, gamma)\n",
    "loss = compute_vlb(X, pi, mu, sigma, gamma)\n",
    "loss\n"
   ]
  },
  {
   "cell_type": "markdown",
   "metadata": {},
   "source": [
    "Now that we have **E_step**, **M_step** and VLB, we can implement the training loop. We will initialize values of $\\pi$, $\\mu$ and $\\Sigma$ to some random numbers, train until $\\mathcal{L}$ stops changing, and return the resulting points. We also know that the EM algorithm converges to local optima. To find a better local optima, we will restart the algorithm multiple times from different (random) starting positions. Each training trial should stop either when maximum number of iterations is reached or when relative improvement is smaller than given tolerance ($|\\frac{\\mathcal{L}_i-\\mathcal{L}_{i-1}}{\\mathcal{L}_{i-1}}| \\le \\text{rtol}$).\n",
    "\n",
    "Initial (random) values of $\\pi$ must be non-negative and sum up to 1. Also, $\\Sigma$ matrices must be symmetric and positive semi-definite so we use $\\Sigma=I$ as initialization.\n",
    "\n",
    "We might also sometimes get numerical errors because of component collapsing. The easiest way to deal with this problems is to restart the procedure."
   ]
  },
  {
   "cell_type": "code",
   "execution_count": 9,
   "metadata": {},
   "outputs": [],
   "source": [
    "def train_EM(X, C, rtol=1e-3, max_iter=100, restarts=10):\n",
    "    '''\n",
    "    Starts with random initialization *restarts* times\n",
    "    Runs optimization until saturation with *rtol* reached\n",
    "    or *max_iter* iterations were made.\n",
    "    \n",
    "    X: (N, d), data points\n",
    "    C: int, number of clusters\n",
    "    '''\n",
    "    \n",
    "    N = X.shape[0] # number of objects\n",
    "    d = X.shape[1] # dimension of each object\n",
    "    best_loss = -20000\n",
    "    best_pi = None\n",
    "    best_mu = None\n",
    "    best_sigma = None\n",
    "    \n",
    "    for _ in range(restarts):\n",
    "        try:\n",
    "            print('restarting...')\n",
    "            a = np.random.uniform(0, 1, C)\n",
    "            pi = a/sum(a)\n",
    "            sigma = np.zeros((C, d, d))\n",
    "            for j in range(C):\n",
    "                sigma[j] = (j+1) * np.eye(d)\n",
    "            mu = np.random.uniform(0, 3, C * d).reshape(C, d)\n",
    "           \n",
    "        \n",
    "        \n",
    "            \n",
    "            for i in range(max_iter):\n",
    "                gamma = E_step(X, pi, mu, sigma)\n",
    "                l_1 = compute_vlb(X, pi, mu, sigma, gamma)\n",
    "                pi, mu, sigma = M_step(X, gamma)\n",
    "                l_2 = compute_vlb(X, pi, mu, sigma, gamma)\n",
    "                print(\"The loss is\", l_2)\n",
    "                if (np.absolute((l_2-l_1)/l_1)<rtol):\n",
    "                    break\n",
    "            \n",
    "            \n",
    "            if l_2 > best_loss:\n",
    "                best_loss = l_2\n",
    "                best_pi = pi\n",
    "                best_mu = mu\n",
    "                best_sigma = sigma\n",
    "\n",
    "        except np.linalg.LinAlgError:\n",
    "            print(\"Singular matrix: components collapsed\")\n",
    "            pass\n",
    "\n",
    "    return best_loss, best_pi, best_mu, best_sigma"
   ]
  },
  {
   "cell_type": "code",
   "execution_count": null,
   "metadata": {
    "scrolled": false
   },
   "outputs": [
    {
     "name": "stdout",
     "output_type": "stream",
     "text": [
      "restarting...\n",
      "The loss is -1197.8395610457828\n",
      "The loss is -1149.4315001747502\n",
      "The loss is -1127.6126268989533\n",
      "The loss is -1115.2816445411531\n",
      "The loss is -1106.9040936472206\n",
      "The loss is -1100.2592605017292\n",
      "The loss is -1095.1327084521588\n",
      "The loss is -1091.1585765886907\n",
      "The loss is -1087.6007870424146\n",
      "The loss is -1084.357239480065\n",
      "The loss is -1081.2905108229252\n",
      "The loss is -1077.2221761739834\n",
      "The loss is -1070.3543875085052\n",
      "The loss is -1064.9261249843198\n",
      "The loss is -1064.14597829148\n",
      "restarting...\n",
      "The loss is -1239.6351448131654\n",
      "The loss is -1227.4901609144947\n",
      "The loss is -1199.570329700411\n",
      "The loss is -1167.312859303619\n",
      "The loss is -1153.908509554754\n",
      "The loss is -1145.9621749169673\n",
      "The loss is -1131.996127850743\n",
      "The loss is -1110.6839639304785\n",
      "The loss is -1097.5167311365817\n",
      "The loss is -1091.1796832139491\n",
      "The loss is -1085.9379559246\n",
      "The loss is -1081.1638067717815\n",
      "The loss is -1076.6145277331161\n",
      "The loss is -1072.4015973128808\n",
      "The loss is -1068.911539432639\n",
      "The loss is -1066.4809538214458\n",
      "The loss is -1065.0880160711126\n",
      "restarting...\n",
      "The loss is -1234.6197452049003\n",
      "The loss is -1212.454239796738\n",
      "The loss is -1201.7529113362134\n",
      "The loss is -1194.3414285468539\n",
      "The loss is -1188.1307296887103\n",
      "The loss is -1182.8337740541012\n",
      "The loss is -1178.406340238956\n",
      "The loss is -1174.6217878216419\n",
      "The loss is -1171.017700614635\n",
      "The loss is -1166.8517833864973\n",
      "The loss is -1160.7348608209688\n",
      "The loss is -1150.390337744999\n",
      "The loss is -1137.2196951985075\n",
      "The loss is -1125.615846665322\n",
      "The loss is -1113.6864729917552\n",
      "The loss is -1102.1528771804183\n",
      "The loss is -1092.7707691664264\n",
      "The loss is -1087.1016686915134\n",
      "The loss is -1083.9293766774856\n",
      "The loss is -1081.2336016757254\n",
      "The loss is -1077.9993408772768\n",
      "The loss is -1073.2165180469874\n",
      "The loss is -1067.6797649226892\n",
      "The loss is -1065.3310103471683\n",
      "restarting...\n",
      "The loss is -1233.0245296773403\n",
      "The loss is -1196.7081751159617\n",
      "The loss is -1176.5118667076122\n",
      "The loss is -1164.8022599099227\n",
      "The loss is -1157.1260830320862\n",
      "The loss is -1151.8196032900146\n",
      "The loss is -1147.2804274822595\n",
      "The loss is -1143.863636512589\n",
      "The loss is -1141.1792064913984\n",
      "The loss is -1138.611223298036\n",
      "The loss is -1135.8901931298403\n",
      "The loss is -1132.8310315880983\n",
      "The loss is -1129.282511109238\n",
      "The loss is -1125.205377773996\n",
      "The loss is -1120.7349116703967\n",
      "The loss is -1116.1483555199907\n",
      "The loss is -1111.6835162526522\n",
      "The loss is -1107.489540026575\n",
      "The loss is -1103.7735442044027\n",
      "The loss is -1100.7430524703398\n",
      "The loss is -1098.363437018848\n",
      "The loss is -1096.3242094619427\n",
      "restarting...\n",
      "The loss is -1240.5456571300563\n",
      "The loss is -1210.0360192781345\n",
      "The loss is -1187.7688691395288\n",
      "The loss is -1175.0536739817842\n",
      "The loss is -1170.4497648653812\n",
      "The loss is -1167.5288250689064\n",
      "The loss is -1164.0068612350524\n",
      "The loss is -1158.6678038159057\n",
      "The loss is -1149.8823815598234\n",
      "The loss is -1136.329642413959\n",
      "The loss is -1120.5916631287264\n",
      "The loss is -1107.798277882071\n",
      "The loss is -1097.6986433875209\n",
      "The loss is -1089.2470394709885\n",
      "The loss is -1083.565475311765\n",
      "The loss is -1080.000956429764\n",
      "The loss is -1077.2211872515172\n",
      "The loss is -1074.6856945858215\n"
     ]
    }
   ],
   "source": [
    "best_loss, best_pi, best_mu, best_sigma = train_EM(X, 3)"
   ]
  },
  {
   "cell_type": "markdown",
   "metadata": {},
   "source": [
    "As seen above, EM converges quickly. Let's now look the results in the figure below: "
   ]
  },
  {
   "cell_type": "code",
   "execution_count": 129,
   "metadata": {},
   "outputs": [
    {
     "data": {
      "image/png": "[encoded data removed]",
      "text/plain": [
       "<Figure size 432x288 with 1 Axes>"
      ]
     },
     "metadata": {
      "needs_background": "light"
     },
     "output_type": "display_data"
    }
   ],
   "source": [
    "gamma = E_step(X, best_pi, best_mu, best_sigma)\n",
    "labels = gamma.argmax(axis=1)\n",
    "colors = np.array([(31, 119, 180), (255, 127, 14), (44, 160, 44)]) / 255.\n",
    "plt.scatter(X[:, 0], X[:, 1], c=colors[labels], s=30)\n",
    "plt.axis('equal')\n",
    "plt.show()"
   ]
  },
  {
   "cell_type": "markdown",
   "metadata": {},
   "source": [
    "The algorithm has high confidence for most points except for some at the border of two clusters:"
   ]
  },
  {
   "cell_type": "code",
   "execution_count": 131,
   "metadata": {},
   "outputs": [
    {
     "data": {
      "image/png": "[encoded data removed]",
      "text/plain": [
       "<Figure size 432x288 with 1 Axes>"
      ]
     },
     "metadata": {
      "needs_background": "light"
     },
     "output_type": "display_data"
    }
   ],
   "source": [
    "gamma = E_step(X, best_pi, best_mu, best_sigma)\n",
    "labels = gamma.argmax(axis=1)\n",
    "prob = gamma.max(axis=1)[:,np.newaxis]\n",
    "colors = np.array([(31, 119, 180), (255, 127, 14), (44, 160, 44)]) / 255.\n",
    "plt.scatter(X[:, 0], X[:, 1], c=colors[labels]*prob, s=30)\n",
    "plt.axis('equal')\n",
    "plt.show()"
   ]
  }
 ],
 "metadata": {
  "kernelspec": {
   "display_name": "Python 3",
   "language": "python",
   "name": "python3"
  },
  "language_info": {
   "codemirror_mode": {
    "name": "ipython",
    "version": 3
   },
   "file_extension": ".py",
   "mimetype": "text/x-python",
   "name": "python",
   "nbconvert_exporter": "python",
   "pygments_lexer": "ipython3",
   "version": "3.7.3"
  }
 },
 "nbformat": 4,
 "nbformat_minor": 2
}
