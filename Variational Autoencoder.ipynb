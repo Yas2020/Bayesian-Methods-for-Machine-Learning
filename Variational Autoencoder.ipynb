{
 "cells": [
  {
   "cell_type": "markdown",
   "metadata": {
    "colab_type": "text",
    "id": "74KEu1L8OnLq"
   },
   "source": [
    "# Variational Autoencoder"
   ]
  },
  {
   "cell_type": "markdown",
   "metadata": {
    "colab_type": "text",
    "id": "r94_BRA-OnLr"
   },
   "source": [
    "In this assignment, we will build Variational Autoencoder, train it on MNIST dataset, and play with its architecture and hyperparameters."
   ]
  },
  {
   "cell_type": "markdown",
   "metadata": {
    "colab_type": "text",
    "id": "GmV9OxiIOnL7"
   },
   "source": [
    "Variational Autoencoder is a probabilistic model of data based on a continuous mixture of distributions. Here we will apply VAE to binary MNIST images (each pixel is either black or white). To better model binary data we will use a continuous mixture of binomial distributions: $p(x \\mid w) = \\int p(x \\mid t, w) p(t) dt$, where the prior distribution on the latent code $t$ is standard normal $p(t) = \\mathcal{N}(0, I)$, but probability that $(i, j)$-th pixel is black equals to $(i, j)$-th output of the decoder neural detwork: $p(x_{ij} \\mid t, w) = \\text{decoder}(t, w)_{ij}$.\n",
    "\n",
    "To train this model we would like to the maximize marginal log-likelihood of our dataset $\\max_w \\log p(X \\mid w)$, which is very hard to do computationally. Instead, we try to use EM to maximize the Variational Lower Bound w.r.t. both the original parameters $w$ and variational distribution $q$ which is defined as an encoder neural network with weights $\\phi$ taking an input image $x$ and outputs the parameters of the gaussian distribution for $q$. Given $q(t \\mid x, \\phi)$ we will try to maximize Variational Lower Bound $ \\mathcal{L}(w, \\phi)$ w.r.t. ${w, \\phi}$. \n"
   ]
  },
  {
   "cell_type": "markdown",
   "metadata": {},
   "source": [
    "\\begin{align*}\n",
    "\\text{max}_{w, \\phi}\\mathcal{L}(w, \\phi) =&\\\\\n",
    "=& \\sum_i \\mathbb{E}_{q_i} \\log \\frac{p(x_i\\mid t_i, w, \\phi)p(t_i)}{q_i(t_i)}\\\\\n",
    "=& \\sum_i \\mathbb{E}_{q_i} \\log p(x_i\\mid t_i, w, \\phi) + \n",
    "\\mathbb{E}_{q_i}\\log \\frac{p(t_i)}{q_i(t_i)}\n",
    "\\end{align*}"
   ]
  },
  {
   "cell_type": "markdown",
   "metadata": {},
   "source": [
    "The second term is $-\\mathcal{KL}(q_i(t_i)\\mid\\mid p(t_i))$ which acts as reqularizer. Also, $q_i(t_i)$ is an approximate of the true posterior of the latent variable $p(t_i| x_i, w)$. "
   ]
  },
  {
   "cell_type": "markdown",
   "metadata": {},
   "source": [
    "$\\mathcal{KL}(q_i(t_i)\\mid\\mid p(t_i))$ can be analytically calculated, and is equal to: \n",
    "$$\\sum_j\\Big(-\\log \\sigma_j(t_i) + \\frac{\\sigma_j^2(t_i) + \\mu_j^2(t_i) - 1}{2}\\Big)$$\n",
    "where $\\mu(t_i)=(\\mu_j(t_i))$ and $\\sigma(t_i)=(\\sigma_j(t_i))$ are the mean and variance vector for the ditribution of latent variable $t_i$.\n",
    "They are provided by the encoder and therefore, dependent on $\\phi$. However, their gradient is easily hangled by a differentiable programming platform such as TensorFlow. "
   ]
  },
  {
   "cell_type": "markdown",
   "metadata": {},
   "source": [
    "Let's look at the gradient of first term which depends on $w$ and $\\phi$. With respect to $w$, we have \n",
    "\\begin{align*}\n",
    "\\bigtriangledown_w\\;\\mathbb{E}_{q_i} \\log p(x_i\\mid t_i, w) \\\\\n",
    "= &\\int q(t_i|x_i, \\phi)\\bigtriangledown_w\\log p(x_i\\mid t_i, w)dt_i\\\\\n",
    "= \\,& \\mathbb{E}_{q_i}\\bigtriangledown_w\\log p(x_i\\mid t_i, w)\\\\\n",
    "\\approx& \\bigtriangledown_w\\log p(x_i\\mid \\hat t_i, w)\n",
    "\\end{align*}\n",
    "where $\\hat t_i$ should be sampled from the posterior distribution $q(t_i|x_i, \\phi)$. Note that $\\bigtriangledown_w\\log p(x_i\\mid \\hat t_i, w)$ is an unbiased approximation of the exact expression. Therefore, the gradient w.r.t. $w$ will be applied on $\\log p(x_i\\mid t_i, w)$ where $t_i$ is sampled."
   ]
  },
  {
   "cell_type": "markdown",
   "metadata": {},
   "source": [
    "The gradient with respect to $\\phi$ is more complicated but using a reparametrization, it would flow nicely:\n",
    "\\begin{align*}\n",
    "\\bigtriangledown_\\phi\\;\\mathbb{E}_{q_i} \\log p(x_i\\mid t_i, w)\n",
    "= & \\bigtriangledown_\\phi\\ \\int q(t_i|x_i, \\phi)\\log p(x_i\\mid t_i, w)dt_i\\\\\n",
    "\\end{align*}\n",
    "But now both terms inside the integral depend on $\\phi$ especially, in a more comlicated way in the case of $\\log p(x_i\\mid t_i, w)$ because of $t_i$. The trick to simplfy gradient calulations is to consider $t_i = \\varepsilon_i\\odot s_i + m_i = g(\\varepsilon_i, x_i, \\phi)$ where $\\varepsilon_i \\sim  \\mathcal{N}(0, I)$ while $\\mathcal{N}(m_i, \\text{diag}(s^2_i))$ was distribution of $t_i$. Given that, we get\n",
    "\\begin{align*}\n",
    "\\bigtriangledown_\\phi\\;\\mathbb{E}_{q_i} \\log p(x_i\\mid t_i, w)\n",
    "= & \\bigtriangledown_\\phi\\;\\mathbb{E}_{p(\\varepsilon_i)} \\log p(x_i\\mid g(\\varepsilon_i, x_i, \\phi), w)\n",
    "\\end{align*}\n",
    "which is again reduced to the derivative of $\\log p(x_i\\mid g(\\varepsilon_i, x_i, \\phi), w)$ with $\\varepsilon_i$ sampled from the standard normal distribution. This is necessary to understand how to implement our loss function for training the model."
   ]
  },
  {
   "cell_type": "markdown",
   "metadata": {},
   "source": [
    "So overall our model looks as follows: encoder takes an image $x$, produces a distribution over latent codes $q(t \\mid x)$ which should approximate the posterior distribution $p(t \\mid x)$ (at least after training), samples a point from this distribution $\\widehat{t} \\sim q(t \\mid x, \\phi)$, and finally feeds it into a decoder that outputs a distribution over images.\n",
    "\n",
    "![](https://github.com/hse-aml/bayesian-methods-for-ml/blob/master/week5/VAE.png?raw=1)\n",
    "\n",
    "In the lecture, we also discussed that variational lower bound has an expected value inside which we are going to approximate with sampling. But it is not trivial since we need to differentiate through this approximation. However, we learned about _reparametrization trick_ which suggests instead of sampling from distribution $\\widehat{t} \\sim q(t \\mid x, \\phi)$ sample from a distribution which doesn't depend on any parameters, e.g. standard normal, and then deterministically transform this sample to the desired one: $\\varepsilon \\sim \\mathcal{N}(0, I); ~~\\widehat{t} = m(x, \\phi) + \\varepsilon \\sigma(x, \\phi)$. This way we don't have to worry about our stochastic gradient being biased and can straightforwardly differentiate our loss w.r.t. all the parameters while treating the current sample $\\varepsilon$ as constant.\n",
    "\n",
    "\n",
    "\n"
   ]
  },
  {
   "cell_type": "markdown",
   "metadata": {},
   "source": [
    "So let's get started to implement VAE."
   ]
  },
  {
   "cell_type": "code",
   "execution_count": 1,
   "metadata": {
    "colab": {},
    "colab_type": "code",
    "id": "H-hJ6_wBOnLz"
   },
   "outputs": [],
   "source": [
    "import tensorflow as tf\n",
    "from tensorflow.keras import layers\n",
    "\n",
    "import numpy as np\n",
    "import matplotlib.pyplot as plt"
   ]
  },
  {
   "cell_type": "markdown",
   "metadata": {},
   "source": [
    "### Loss "
   ]
  },
  {
   "cell_type": "markdown",
   "metadata": {},
   "source": [
    "In Expectation-Maximization, Variational Lower Bound VLB which is typically a negative number has to be maximized. For convenience, we will **minimize** the **negated** of VLB (which will be a positive number) instead of maximizing VLB itself. \n",
    "\n",
    "To do that, we need a stochastic estimate of VLB: \n",
    "$$\\text{VLB} = \\sum_{i=1}^N \\text{VLB}_i \\approx \\frac{N}{M}\\sum_{i_s}^M \\text{VLB}_{i_s}$$\n",
    "where $N$ is the dataset size, $\\text{VLB}_i$ is the term of VLB corresponding to the $i$-th object, and $M$ is the mini-batch size. But instead of this stochastic estimate of the full VLB we will use an estimate of the negated VLB normalized by the dataset size, i.e. the function below returns the average across the mini-batch $-\\frac{1}{M}\\sum_{i_s}^M \\text{VLB}_{i_s}$. People usually optimize the normalized version of VLB since it doesn't depend on the dataset - we can write VLB function once and use it for different datasets - the dataset size won't affect the learning rate too much. We define it based in our calculations above. This is our loss function used to train our model."
   ]
  },
  {
   "cell_type": "code",
   "execution_count": 2,
   "metadata": {},
   "outputs": [],
   "source": [
    "def vlb_binomial(model, x):\n",
    "    \"\"\"Returns the value of negative Variational Lower Bound\n",
    "       x: (batch_size x number_of_pixels) matrix with one image per row with zeros and ones\n",
    "    Returns:\n",
    "        A scalar tf.Tensor (averaged across the batch), - VLB\n",
    "    \"\"\"\n",
    "    t_mean, t_log_var = model.encoder(x)\n",
    "    x_decoded_mean = model(x)\n",
    "        \n",
    "    vlb = tf.reduce_mean(tf.reduce_sum(x * tf.math.log(x_decoded_mean + 1e-6) +\\\n",
    "            (1-x)*tf.math.log(1-x_decoded_mean + 1e-6), axis=1) +\\\n",
    "            tf.reduce_sum(0.5 * (t_log_var - tf.exp(t_log_var) - tf.math.pow(t_mean, 2.0) + 1.0 ), axis=1))\n",
    "    \n",
    "    return -vlb\n",
    " "
   ]
  },
  {
   "cell_type": "markdown",
   "metadata": {
    "colab_type": "text",
    "id": "JIajOY9bOnMK"
   },
   "source": [
    "# Encoder - Decoder Net"
   ]
  },
  {
   "cell_type": "markdown",
   "metadata": {},
   "source": [
    "We need to built our encoder-decoder network. To do this we use the Functional API in TensorFlow, Keras, to implement the layer combined with obeject oriented aproach to wrap the parts into a final model. We choose this approach as we will need to use the structure agian but with minimal modification. I tried my best to do that but there could be an even better way to do this. "
   ]
  },
  {
   "cell_type": "markdown",
   "metadata": {},
   "source": [
    "Let's begin with making a Keras layer from our *sampling* function:"
   ]
  },
  {
   "cell_type": "code",
   "execution_count": 3,
   "metadata": {},
   "outputs": [],
   "source": [
    "class Sampling(layers.Layer):\n",
    "  \"\"\"Uses (t_mean, t_log_var) to sample t.\"\"\"\n",
    "\n",
    "  def call(self, inputs):\n",
    "    t_mean, t_log_var = inputs\n",
    "    eps = tf.random.normal(shape=tf.shape(t_mean), mean=0.0, stddev=1.0, \n",
    "                       dtype=tf.float32, seed=None, name=\"eps\")\n",
    "    t = t_mean + eps * tf.exp(t_log_var * 0.5)\n",
    "    return t"
   ]
  },
  {
   "cell_type": "markdown",
   "metadata": {},
   "source": [
    "We now create our encoder and decoder model using Functional API defind as functions so we can reuse them later easily."
   ]
  },
  {
   "cell_type": "code",
   "execution_count": 5,
   "metadata": {},
   "outputs": [],
   "source": [
    "batch_size = 100\n",
    "original_dim = 784\n",
    "intermediate_dim = 256\n",
    "latent_dim = 10\n",
    "\n",
    "\n",
    "def create_encoder(input_dim):\n",
    "    \"\"\"Create encoder model\"\"\"\n",
    "    \n",
    "    original_inputs = layers.Input(shape=(input_dim,), name='encoder_input')\n",
    "    x = layers.Dense(intermediate_dim, activation='relu')(original_inputs)\n",
    "    t_mean = layers.Dense(latent_dim, name='t_mean')(x)\n",
    "    t_log_var = layers.Dense(latent_dim, name='t_log_var')(x)\n",
    "    encoder = tf.keras.Model(inputs=original_inputs, \n",
    "                             outputs=[t_mean, t_log_var], \n",
    "                             name='encoder')\n",
    "    return encoder\n",
    "\n",
    "encoder = create_encoder(original_dim)\n",
    "\n",
    "# Define decoder model.\n",
    "def create_decoder(input_dim):\n",
    "    latent_inputs = layers.Input(shape=(input_dim,), name='decoder_input')\n",
    "    x = layers.Dense(intermediate_dim, activation='relu')(latent_inputs)\n",
    "    outputs = layers.Dense(original_dim, activation='sigmoid')(x)\n",
    "    decoder = tf.keras.Model(inputs=latent_inputs, outputs=outputs, name='decoder')\n",
    "    return decoder\n",
    "\n",
    "decoder = create_decoder(latent_dim)"
   ]
  },
  {
   "cell_type": "markdown",
   "metadata": {},
   "source": [
    "We now wrap around our encoder and decoder into the final model:"
   ]
  },
  {
   "cell_type": "code",
   "execution_count": 6,
   "metadata": {},
   "outputs": [],
   "source": [
    "class VAE(tf.keras.Model):\n",
    "    \"\"\"Combines the encoder and decoder into an end-to-end model for training.\"\"\"\n",
    "\n",
    "    def __init__(self, name='autoencoder', **kwargs):\n",
    "        super(VAE, self).__init__(name=name, **kwargs)\n",
    "        self.encoder = encoder\n",
    "        self.decoder = decoder\n",
    "\n",
    "    def call(self, inputs):\n",
    "        t = self.encoder(inputs)\n",
    "        t = Sampling()(t)\n",
    "        x_decoded_mean = self.decoder(t) \n",
    "        return x_decoded_mean"
   ]
  },
  {
   "cell_type": "markdown",
   "metadata": {},
   "source": [
    "Create an instance of the model to be trained:"
   ]
  },
  {
   "cell_type": "code",
   "execution_count": 7,
   "metadata": {},
   "outputs": [],
   "source": [
    "vae = VAE()"
   ]
  },
  {
   "cell_type": "markdown",
   "metadata": {
    "colab_type": "text",
    "id": "nktDqnapOnMS"
   },
   "source": [
    "## Training the model"
   ]
  },
  {
   "cell_type": "markdown",
   "metadata": {},
   "source": [
    "Now we pass the loss function defined above to GradientTape() API for its gradient to be calculated: "
   ]
  },
  {
   "cell_type": "code",
   "execution_count": 8,
   "metadata": {
    "colab": {},
    "colab_type": "code",
    "id": "OwynsmjaOnL-"
   },
   "outputs": [],
   "source": [
    "optimizer = tf.keras.optimizers.RMSprop(\n",
    "    learning_rate=0.001, name='RMSprop')\n",
    "\n",
    "def compute_apply_gradients(model, x, optimizer):\n",
    "    with tf.GradientTape() as tape:\n",
    "        loss = vlb_binomial(model, x)\n",
    "    gradients = tape.gradient(loss, model.trainable_variables)\n",
    "    optimizer.apply_gradients(zip(gradients, model.trainable_variables))"
   ]
  },
  {
   "cell_type": "markdown",
   "metadata": {
    "colab_type": "text",
    "id": "SVJQG9l4OnMY"
   },
   "source": [
    "#### Load and prepare the data"
   ]
  },
  {
   "cell_type": "markdown",
   "metadata": {},
   "source": [
    "Let's load the MNIST data. Each MNIST image is originally a vector of 784 integers, each of which is between 0-255 and represents the intensity of a pixel. We normalized the data to be between 0-1. We categorize the labels in one-hot encoding format which will be use later for the second model. We do not need it for VAE model as we are beuilding a generative model. "
   ]
  },
  {
   "cell_type": "code",
   "execution_count": 9,
   "metadata": {},
   "outputs": [],
   "source": [
    "(x_train, y_train), (x_test, y_test) = tf.keras.datasets.mnist.load_data()\n",
    "\n",
    "# One hot encoding.\n",
    "y_train = tf.keras.utils.to_categorical(y_train)\n",
    "y_test = tf.keras.utils.to_categorical(y_test)\n",
    "\n",
    "\n",
    "x_train = x_train.astype('float32') / 255.\n",
    "x_test = x_test.astype('float32') / 255.\n",
    "x_train = tf.reshape(x_train, (len(x_train), np.prod(x_train.shape[1:])))\n",
    "x_test = tf.reshape(x_test, (len(x_test), np.prod(x_test.shape[1:])))\n",
    "\n"
   ]
  },
  {
   "cell_type": "markdown",
   "metadata": {
    "colab_type": "text",
    "id": "EnWfL2xrOnMb"
   },
   "source": [
    "#### Train the model"
   ]
  },
  {
   "cell_type": "code",
   "execution_count": 10,
   "metadata": {
    "scrolled": false
   },
   "outputs": [
    {
     "name": "stdout",
     "output_type": "stream",
     "text": [
      "Epoch 1/50: \n",
      "\t loss:175.447388  - test_loss:177.718811\n",
      "Epoch 2/50: \n",
      "\t loss:152.781494  - test_loss:155.871414\n",
      "Epoch 3/50: \n",
      "\t loss:141.218445  - test_loss:144.824203\n",
      "Epoch 4/50: \n",
      "\t loss:136.864166  - test_loss:140.452255\n",
      "Epoch 5/50: \n",
      "\t loss:132.582336  - test_loss:136.134689\n",
      "Epoch 6/50: \n",
      "\t loss:130.714478  - test_loss:133.520386\n",
      "Epoch 7/50: \n",
      "\t loss:127.365471  - test_loss:131.078354\n",
      "Epoch 8/50: \n",
      "\t loss:124.928581  - test_loss:128.928650\n",
      "Epoch 9/50: \n",
      "\t loss:123.565338  - test_loss:128.057953\n",
      "Epoch 10/50: \n",
      "\t loss:122.736526  - test_loss:126.555359\n",
      "Epoch 11/50: \n",
      "\t loss:121.068565  - test_loss:125.580147\n",
      "Epoch 12/50: \n",
      "\t loss:119.724541  - test_loss:125.034653\n",
      "Epoch 13/50: \n",
      "\t loss:119.270515  - test_loss:124.073685\n",
      "Epoch 14/50: \n",
      "\t loss:119.398224  - test_loss:123.345177\n",
      "Epoch 15/50: \n",
      "\t loss:117.495422  - test_loss:122.260048\n",
      "Epoch 16/50: \n",
      "\t loss:116.974617  - test_loss:121.729927\n",
      "Epoch 17/50: \n",
      "\t loss:115.241547  - test_loss:121.238647\n",
      "Epoch 18/50: \n",
      "\t loss:115.650627  - test_loss:121.164726\n",
      "Epoch 19/50: \n",
      "\t loss:115.997429  - test_loss:120.992538\n",
      "Epoch 20/50: \n",
      "\t loss:115.135536  - test_loss:120.777802\n",
      "Epoch 21/50: \n",
      "\t loss:115.072685  - test_loss:120.254372\n",
      "Epoch 22/50: \n",
      "\t loss:114.602089  - test_loss:119.729950\n",
      "Epoch 23/50: \n",
      "\t loss:112.914177  - test_loss:119.075974\n",
      "Epoch 24/50: \n",
      "\t loss:113.750351  - test_loss:119.396576\n",
      "Epoch 25/50: \n",
      "\t loss:112.950783  - test_loss:118.848465\n",
      "Epoch 26/50: \n",
      "\t loss:113.329071  - test_loss:118.693810\n",
      "Epoch 27/50: \n",
      "\t loss:113.134315  - test_loss:118.681763\n",
      "Epoch 28/50: \n",
      "\t loss:111.975143  - test_loss:118.122803\n",
      "Epoch 29/50: \n",
      "\t loss:111.913254  - test_loss:118.313477\n",
      "Epoch 30/50: \n",
      "\t loss:112.312889  - test_loss:117.969116\n",
      "Epoch 31/50: \n",
      "\t loss:111.180763  - test_loss:117.685440\n",
      "Epoch 32/50: \n",
      "\t loss:110.596741  - test_loss:117.377861\n",
      "Epoch 33/50: \n",
      "\t loss:110.908890  - test_loss:117.343140\n",
      "Epoch 34/50: \n",
      "\t loss:110.853142  - test_loss:117.518898\n",
      "Epoch 35/50: \n",
      "\t loss:111.005402  - test_loss:117.270226\n",
      "Epoch 36/50: \n",
      "\t loss:110.694931  - test_loss:117.316200\n",
      "Epoch 37/50: \n",
      "\t loss:110.729774  - test_loss:117.390373\n",
      "Epoch 38/50: \n",
      "\t loss:110.527267  - test_loss:117.091286\n",
      "Epoch 39/50: \n",
      "\t loss:110.663643  - test_loss:117.175728\n",
      "Epoch 40/50: \n",
      "\t loss:109.581406  - test_loss:116.698074\n",
      "Epoch 41/50: \n",
      "\t loss:109.586823  - test_loss:116.673149\n",
      "Epoch 42/50: \n",
      "\t loss:109.024040  - test_loss:116.502113\n",
      "Epoch 43/50: \n",
      "\t loss:109.192917  - test_loss:116.575127\n",
      "Epoch 44/50: \n",
      "\t loss:109.499619  - test_loss:116.324547\n",
      "Epoch 45/50: \n",
      "\t loss:109.118408  - test_loss:116.190750\n",
      "Epoch 46/50: \n",
      "\t loss:109.043839  - test_loss:116.161972\n",
      "Epoch 47/50: \n",
      "\t loss:109.985916  - test_loss:116.906876\n",
      "Epoch 48/50: \n",
      "\t loss:108.134079  - test_loss:116.083054\n",
      "Epoch 49/50: \n",
      "\t loss:108.341141  - test_loss:116.032822\n",
      "Epoch 50/50: \n",
      "\t loss:109.236237  - test_loss:116.673523\n"
     ]
    }
   ],
   "source": [
    "epochs = 50\n",
    "\n",
    "for epoch in range(1, epochs + 1):\n",
    "    for i in range(1, batch_size + 1):\n",
    "        X_batch = x_train[(i-1)*batch_size:i*batch_size]\n",
    "        compute_apply_gradients(vae, X_batch, optimizer)\n",
    "    print('Epoch %d/%d: \\n\\t loss:%f  - test_loss:%f'%(epoch, epochs,\n",
    "                                          tf.keras.backend.eval(vlb_binomial(vae, X_batch)),\n",
    "                                          tf.keras.backend.eval(vlb_binomial(vae, x_test))))"
   ]
  },
  {
   "cell_type": "code",
   "execution_count": 11,
   "metadata": {},
   "outputs": [],
   "source": [
    "vae.save_weights('./checkpoints/my_checkpoint')"
   ]
  },
  {
   "cell_type": "markdown",
   "metadata": {
    "colab_type": "text",
    "id": "FdjnEbpkOnMf"
   },
   "source": [
    "### Visualize reconstructions for train and validation data\n",
    "In the picture below the reconstruction ability of the network is shown on training and validation data. In each of the two images, the left column is MNIST images and the right column is the corresponding image after passing through autoencoder (or more precisely the mean of the binomial distribution over the output images).\n"
   ]
  },
  {
   "cell_type": "code",
   "execution_count": 12,
   "metadata": {},
   "outputs": [
    {
     "data": {
      "image/png": "[encoded data removed]",
      "text/plain": [
       "<Figure size 720x720 with 2 Axes>"
      ]
     },
     "metadata": {
      "needs_background": "light"
     },
     "output_type": "display_data"
    }
   ],
   "source": [
    "fig = plt.figure(figsize=(10, 10))\n",
    "for fid_idx, (data, title) in enumerate(\n",
    "            zip([x_train, x_test], ['Train', 'Validation'])):\n",
    "    n = 10  # figure with 10 x 2 digits\n",
    "    digit_size = 28\n",
    "    figure = np.zeros((digit_size * n, digit_size * 2))\n",
    "    decoded = tf.keras.backend.eval(vae(data[:batch_size, :]))\n",
    "    for i in range(10):\n",
    "        figure[i * digit_size: (i + 1) * digit_size,\n",
    "               :digit_size] = tf.keras.backend.eval(tf.reshape(data[i, :], (digit_size, digit_size)))\n",
    "        figure[i * digit_size: (i + 1) * digit_size,\n",
    "               digit_size:] = decoded[i, :].reshape(digit_size, digit_size)\n",
    "    ax = fig.add_subplot(1, 2, fid_idx + 1)\n",
    "    ax.imshow(figure, cmap='Greys_r')\n",
    "    ax.set_title(title)\n",
    "    ax.axis('off')\n",
    "plt.show()"
   ]
  },
  {
   "cell_type": "markdown",
   "metadata": {
    "colab_type": "text",
    "id": "WEclzA3WOnMk"
   },
   "source": [
    "## Hallucinating new data\n",
    "In the following cell, new sample images are generated from your trained VAE. To do that we sample from the prior distribution $p(t)$ (standard normal) and then from the likelihood $p(x \\mid t)$, which is the output of the decoder."
   ]
  },
  {
   "cell_type": "code",
   "execution_count": 13,
   "metadata": {
    "colab": {},
    "colab_type": "code",
    "id": "jGLqzZD4OnMm"
   },
   "outputs": [],
   "source": [
    "n_samples = 10 \n",
    "\n",
    "t_sample = tf.keras.backend.random_normal([n_samples,latent_dim],mean=0.0,stddev=1.0,dtype=tf.float32,seed=12)\n",
    "\n",
    "sampled_im_mean = tf.keras.backend.eval(vae.decoder(t_sample))"
   ]
  },
  {
   "cell_type": "code",
   "execution_count": 14,
   "metadata": {},
   "outputs": [
    {
     "data": {
      "image/png": "[encoded data removed]",
      "text/plain": [
       "<Figure size 432x288 with 10 Axes>"
      ]
     },
     "metadata": {
      "needs_background": "light"
     },
     "output_type": "display_data"
    }
   ],
   "source": [
    "plt.figure()\n",
    "for i in range(n_samples):\n",
    "    ax = plt.subplot(n_samples // 5 + 1, 5, i + 1)\n",
    "    plt.imshow(tf.reshape(sampled_im_mean[i, :], [28, 28]), cmap='gray')\n",
    "    ax.axis('off')\n",
    "plt.show()"
   ]
  },
  {
   "cell_type": "markdown",
   "metadata": {
    "colab_type": "text",
    "id": "VMuhWEYBOnMt"
   },
   "source": [
    "# Conditional VAE"
   ]
  },
  {
   "cell_type": "markdown",
   "metadata": {
    "colab_type": "text",
    "id": "ly1YYFktOnMu"
   },
   "source": [
    "We can easily modify the above code to obtain Conditional Variational Autoencoder [1]. The idea is very simple: we can pass more information about the samples to the model that makes it easier for the model to generate more accurate samples. To do this, we condition all the distributions on some additional information. In our case, this additional information could be the class label (the digit on the image, from 0 to 9).\n",
    "\n",
    "![](https://github.com/hse-aml/bayesian-methods-for-ml/blob/master/week5/CVAE.png?raw=1)\n",
    "\n",
    "So now both the likelihood and the variational distributions are conditioned on the class label: $p(x \\mid t, \\text{label}, w)$, $q(t \\mid x, \\text{label}, \\phi)$.\n",
    "\n",
    "The only thing we need to do in your code is to concatenate input image $x$ with (one-hot) label of this image to pass into the encoder $q$ and to concatenate latent code $t$ with the same label to pass into the decoder $p$. This is slightly harder to do with convolutional encoder/decoder model.\n",
    "\n",
    "This change would definitely imporove the model as we are giving more information about the type of a sample to the model. \n",
    "\n",
    "[1] Sohn, Kihyuk, Honglak Lee, and Xinchen Yan. “Learning Structured Output Representation using Deep Conditional Generative Models.” Advances in Neural Information Processing Systems. 2015."
   ]
  },
  {
   "cell_type": "markdown",
   "metadata": {},
   "source": [
    "We can easily reuse the code for encoder-decoder but need a slight mod for the model to take the concatenation of the images and their labels as input."
   ]
  },
  {
   "cell_type": "code",
   "execution_count": 15,
   "metadata": {},
   "outputs": [],
   "source": [
    "encoder = create_encoder(original_dim + 10)\n",
    "decoder = create_decoder(latent_dim + 10)"
   ]
  },
  {
   "cell_type": "markdown",
   "metadata": {},
   "source": [
    "And, the conditional variational autoencoder model:"
   ]
  },
  {
   "cell_type": "code",
   "execution_count": 18,
   "metadata": {},
   "outputs": [],
   "source": [
    "class CVAE(tf.keras.Model):\n",
    "    \"\"\"Combines the encoder and decoder into an end-to-end model for training.\"\"\"\n",
    "\n",
    "    def __init__(self, name='autoencoder', **kwargs):\n",
    "        super(CVAE, self).__init__(name=name, **kwargs)\n",
    "        self.encoder = encoder\n",
    "        self.decoder = decoder\n",
    "\n",
    "    def call(self, inputs):\n",
    "        x, labels = inputs\n",
    "        t = layers.concatenate([x, labels], axis=1)\n",
    "        t = self.encoder(t)\n",
    "        t = Sampling()(t)\n",
    "        t = layers.concatenate([t, labels], axis=1)\n",
    "        x_decoded_mean = self.decoder(t)\n",
    "        return x_decoded_mean"
   ]
  },
  {
   "cell_type": "code",
   "execution_count": 19,
   "metadata": {},
   "outputs": [],
   "source": [
    "cvae = CVAE()"
   ]
  },
  {
   "cell_type": "markdown",
   "metadata": {},
   "source": [
    "We add a one-line code to the loss function:"
   ]
  },
  {
   "cell_type": "code",
   "execution_count": 20,
   "metadata": {},
   "outputs": [],
   "source": [
    "def cvlb_binomial(model, x):\n",
    "    \n",
    "    y = tf.keras.backend.concatenate(x, axis=1)\n",
    "    t_mean, t_log_var = model.encoder(y)\n",
    "    x_decoded_mean = model(x)\n",
    "        \n",
    "    vlb = tf.reduce_mean(tf.reduce_sum(x[0] * tf.math.log(x_decoded_mean + 1e-6) +\\\n",
    "            (1-x[0])*tf.math.log(1-x_decoded_mean + 1e-6), axis=1) +\\\n",
    "            tf.reduce_sum(0.5 * (t_log_var - tf.exp(t_log_var) - tf.math.pow(t_mean, 2.0) + 1.0 ), axis=1))\n",
    "    \n",
    "    return -vlb\n",
    " "
   ]
  },
  {
   "cell_type": "code",
   "execution_count": 21,
   "metadata": {},
   "outputs": [],
   "source": [
    "def compute_apply_gradients(model, x, optimizer):\n",
    "    with tf.GradientTape() as tape:\n",
    "        loss = cvlb_binomial(model, x)\n",
    "    gradients = tape.gradient(loss, model.trainable_variables)\n",
    "    optimizer.apply_gradients(zip(gradients, model.trainable_variables))"
   ]
  },
  {
   "cell_type": "code",
   "execution_count": 24,
   "metadata": {},
   "outputs": [
    {
     "name": "stdout",
     "output_type": "stream",
     "text": [
      "Epoch 1/50: \n",
      "\t loss:133.675583  - test_loss:136.307495\n",
      "Epoch 2/50: \n",
      "\t loss:127.877884  - test_loss:132.039337\n",
      "Epoch 3/50: \n",
      "\t loss:125.633469  - test_loss:129.899368\n",
      "Epoch 4/50: \n",
      "\t loss:122.403328  - test_loss:127.043228\n",
      "Epoch 5/50: \n",
      "\t loss:121.324707  - test_loss:125.626816\n",
      "Epoch 6/50: \n",
      "\t loss:119.545937  - test_loss:125.114059\n",
      "Epoch 7/50: \n",
      "\t loss:118.103584  - test_loss:122.498489\n",
      "Epoch 8/50: \n",
      "\t loss:116.838661  - test_loss:121.197075\n",
      "Epoch 9/50: \n",
      "\t loss:116.612625  - test_loss:121.929649\n",
      "Epoch 10/50: \n",
      "\t loss:116.329895  - test_loss:120.733948\n",
      "Epoch 11/50: \n",
      "\t loss:114.462463  - test_loss:119.896912\n",
      "Epoch 12/50: \n",
      "\t loss:114.239326  - test_loss:118.669472\n",
      "Epoch 13/50: \n",
      "\t loss:112.326385  - test_loss:118.256363\n",
      "Epoch 14/50: \n",
      "\t loss:112.066261  - test_loss:117.546761\n",
      "Epoch 15/50: \n",
      "\t loss:111.633415  - test_loss:116.976372\n",
      "Epoch 16/50: \n",
      "\t loss:111.464806  - test_loss:116.348213\n",
      "Epoch 17/50: \n",
      "\t loss:110.365829  - test_loss:116.336975\n",
      "Epoch 18/50: \n",
      "\t loss:110.012962  - test_loss:115.358528\n",
      "Epoch 19/50: \n",
      "\t loss:110.392570  - test_loss:115.319252\n",
      "Epoch 20/50: \n",
      "\t loss:109.659317  - test_loss:115.098778\n",
      "Epoch 21/50: \n",
      "\t loss:108.807693  - test_loss:114.112686\n",
      "Epoch 22/50: \n",
      "\t loss:109.499657  - test_loss:115.007225\n",
      "Epoch 23/50: \n",
      "\t loss:108.168831  - test_loss:114.264175\n",
      "Epoch 24/50: \n",
      "\t loss:108.123680  - test_loss:114.259773\n",
      "Epoch 25/50: \n",
      "\t loss:108.802467  - test_loss:113.759300\n",
      "Epoch 26/50: \n",
      "\t loss:107.525780  - test_loss:113.595154\n",
      "Epoch 27/50: \n",
      "\t loss:106.514717  - test_loss:112.768112\n",
      "Epoch 28/50: \n",
      "\t loss:106.357513  - test_loss:112.736664\n",
      "Epoch 29/50: \n",
      "\t loss:105.967087  - test_loss:112.474297\n",
      "Epoch 30/50: \n",
      "\t loss:105.170517  - test_loss:112.293503\n",
      "Epoch 31/50: \n",
      "\t loss:105.460548  - test_loss:112.468575\n",
      "Epoch 32/50: \n",
      "\t loss:107.120087  - test_loss:113.254372\n",
      "Epoch 33/50: \n",
      "\t loss:105.744675  - test_loss:112.334290\n",
      "Epoch 34/50: \n",
      "\t loss:104.838348  - test_loss:111.893997\n",
      "Epoch 35/50: \n",
      "\t loss:104.748047  - test_loss:111.362564\n",
      "Epoch 36/50: \n",
      "\t loss:104.255539  - test_loss:111.454887\n",
      "Epoch 37/50: \n",
      "\t loss:104.968681  - test_loss:111.438164\n",
      "Epoch 38/50: \n",
      "\t loss:103.943703  - test_loss:111.386078\n",
      "Epoch 39/50: \n",
      "\t loss:104.579704  - test_loss:111.416603\n",
      "Epoch 40/50: \n",
      "\t loss:104.478378  - test_loss:111.300323\n",
      "Epoch 41/50: \n",
      "\t loss:105.019844  - test_loss:111.420197\n",
      "Epoch 42/50: \n",
      "\t loss:104.106133  - test_loss:110.985161\n",
      "Epoch 43/50: \n",
      "\t loss:103.135323  - test_loss:110.769928\n",
      "Epoch 44/50: \n",
      "\t loss:103.782097  - test_loss:111.720825\n",
      "Epoch 45/50: \n",
      "\t loss:103.711037  - test_loss:111.030540\n",
      "Epoch 46/50: \n",
      "\t loss:103.405411  - test_loss:110.622223\n",
      "Epoch 47/50: \n",
      "\t loss:103.614738  - test_loss:110.473251\n",
      "Epoch 48/50: \n",
      "\t loss:103.116699  - test_loss:110.299065\n",
      "Epoch 49/50: \n",
      "\t loss:103.746033  - test_loss:110.891014\n",
      "Epoch 50/50: \n",
      "\t loss:102.809807  - test_loss:110.149284\n"
     ]
    }
   ],
   "source": [
    "epochs = 50\n",
    "\n",
    "for epoch in range(1, epochs + 1):\n",
    "    for i in range(1, batch_size + 1):\n",
    "        X_batch = x_train[(i-1)*batch_size:i*batch_size]\n",
    "        y_batch = y_train[(i-1)*batch_size:i*batch_size]\n",
    "        compute_apply_gradients(cvae, [X_batch, y_batch], optimizer)\n",
    "    print('Epoch %d/%d: \\n\\t loss:%f  - test_loss:%f'%(epoch, epochs,\n",
    "          tf.keras.backend.eval(cvlb_binomial(cvae,[X_batch, y_batch])),\n",
    "          tf.keras.backend.eval(cvlb_binomial(cvae,[x_test, y_test]))))"
   ]
  },
  {
   "cell_type": "code",
   "execution_count": 26,
   "metadata": {},
   "outputs": [
    {
     "data": {
      "image/png": "[encoded data removed]",
      "text/plain": [
       "<Figure size 720x720 with 2 Axes>"
      ]
     },
     "metadata": {
      "needs_background": "light"
     },
     "output_type": "display_data"
    }
   ],
   "source": [
    "fig = plt.figure(figsize=(10, 10))\n",
    "for fid_idx, (x_data, y_data, title) in enumerate(\n",
    "            zip([x_train, x_test], [y_train, y_test], ['Train', 'Validation'])):\n",
    "    n = 10  # figure with 10 x 2 digits\n",
    "    digit_size = 28\n",
    "    figure = np.zeros((digit_size * n, digit_size * 2))\n",
    "    decoded = tf.keras.backend.eval(cvae([x_data[:batch_size, :], \n",
    "                                     y_data[:batch_size, :]]))\n",
    "    \n",
    "    for i in range(10):\n",
    "        figure[i * digit_size: (i + 1) * digit_size,\n",
    "               :digit_size] = tf.keras.backend.eval(tf.reshape(x_data[i, :],(digit_size, digit_size)))\n",
    "        figure[i * digit_size: (i + 1) * digit_size,\n",
    "               digit_size:] = decoded[i, :].reshape(digit_size, digit_size)\n",
    "    ax = fig.add_subplot(1, 2, fid_idx + 1)\n",
    "    ax.imshow(figure, cmap='Greys_r')\n",
    "    ax.set_title(title)\n",
    "    ax.axis('off')\n",
    "plt.show()"
   ]
  },
  {
   "cell_type": "code",
   "execution_count": 27,
   "metadata": {},
   "outputs": [],
   "source": [
    "# Prepare one hot labels of form\n",
    "#   0 0 0 0 0 1 1 1 1 1 2 2 2 2 2 ...\n",
    "# to sample five zeros, five ones, etc\n",
    "curr_labels = np.eye(10)\n",
    "curr_labels = np.repeat(curr_labels, 5, axis=0)  # Its shape is 50 x 10.\n",
    "\n",
    "curr_labels = tf.convert_to_tensor(curr_labels, dtype=tf.float32)\n",
    "\n",
    "t_sample = tf.keras.backend.random_normal([50,latent_dim], mean=0.0, stddev=1.0, dtype=tf.float32, seed=12)\n",
    "t = layers.concatenate([t_sample, curr_labels], axis=1)\n",
    "\n",
    "cond_sampled_im_mean = tf.keras.backend.eval(cvae.decoder(t))"
   ]
  },
  {
   "cell_type": "code",
   "execution_count": 28,
   "metadata": {},
   "outputs": [
    {
     "data": {
      "image/png": "[encoded data removed]",
      "text/plain": [
       "<Figure size 720x720 with 50 Axes>"
      ]
     },
     "metadata": {
      "needs_background": "light"
     },
     "output_type": "display_data"
    }
   ],
   "source": [
    "# Show the sampled images.\n",
    "plt.figure(figsize=(10, 10))\n",
    "global_idx = 0\n",
    "for digit in range(10):\n",
    "    for _ in range(5):\n",
    "        ax = plt.subplot(10, 5, global_idx + 1)\n",
    "        plt.imshow(cond_sampled_im_mean[global_idx, :].reshape(28, 28), cmap='gray')\n",
    "        ax.axis('off')\n",
    "        global_idx += 1\n",
    "plt.show()"
   ]
  },
  {
   "cell_type": "markdown",
   "metadata": {},
   "source": [
    "Another way of extension for this work is to modify the code such that it works with the mixture of Gaussian distributions (in contrast to the mixture of Binomial distributions). This allows us to mimic the above experience for full color natural images with more diverse structures such as the ones in CIFAR-10 dataset.\n",
    "Finally, there are better generative model such as GAN for images but the significance of variational autoencoder is not limited to its generative model for images."
   ]
  },
  {
   "cell_type": "code",
   "execution_count": null,
   "metadata": {},
   "outputs": [],
   "source": []
  }
 ],
 "metadata": {
  "accelerator": "GPU",
  "celltoolbar": "Raw Cell Format",
  "colab": {
   "collapsed_sections": [],
   "name": "Vae_assignment.ipynb",
   "provenance": [],
   "version": "0.3.2"
  },
  "kernelspec": {
   "display_name": "Python 3",
   "language": "python",
   "name": "python3"
  },
  "language_info": {
   "codemirror_mode": {
    "name": "ipython",
    "version": 3
   },
   "file_extension": ".py",
   "mimetype": "text/x-python",
   "name": "python",
   "nbconvert_exporter": "python",
   "pygments_lexer": "ipython3",
   "version": "3.7.3"
  }
 },
 "nbformat": 4,
 "nbformat_minor": 1
}
